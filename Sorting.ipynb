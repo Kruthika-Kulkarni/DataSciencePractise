{
 "cells": [
  {
   "cell_type": "markdown",
   "metadata": {},
   "source": [
    "## Sorting in Python"
   ]
  },
  {
   "cell_type": "markdown",
   "metadata": {},
   "source": [
    "### Bubble Sort\n",
    "- This is the most common, sorting algorithm which involves comparing two adjacent elements. \n",
    "- after the first iteration, the largest element will be in the last index. \n",
    "- after the second iteration, the 2nd largest will be in it's right index and so on.\n",
    "- You can see the same below in the code. "
   ]
  },
  {
   "cell_type": "code",
   "execution_count": 44,
   "metadata": {},
   "outputs": [],
   "source": [
    "import time"
   ]
  },
  {
   "cell_type": "code",
   "execution_count": 27,
   "metadata": {},
   "outputs": [],
   "source": [
    "def bubbleSort(lst):\n",
    "    \n",
    "    print(\"original list is {}\".format(lst))\n",
    "    \n",
    "    len_lst = len(lst)\n",
    "    if len_lst == 1:\n",
    "        return lst\n",
    "    \n",
    "    for iter_1 in range(len_lst):\n",
    "        for iter_2 in range(0,len_lst-iter_1-1):\n",
    "            \n",
    "            if lst[iter_2] > lst[iter_2 + 1]:\n",
    "                \n",
    "                lst[iter_2], lst[iter_2 + 1] = lst[iter_2 + 1],lst[iter_2]\n",
    "                \n",
    "        print(\"Post the {first} iteration, {lst}\".format(first = iter_1,lst=lst))\n",
    "                \n",
    "    return lst"
   ]
  },
  {
   "cell_type": "code",
   "execution_count": 38,
   "metadata": {},
   "outputs": [],
   "source": [
    "lst = [1,4,2,7,5,9,3]"
   ]
  },
  {
   "cell_type": "code",
   "execution_count": 45,
   "metadata": {},
   "outputs": [
    {
     "name": "stdout",
     "output_type": "stream",
     "text": [
      "original list is [1, 2, 3, 4, 5, 7, 9]\n",
      "Post the 0 iteration, [1, 2, 3, 4, 5, 7, 9]\n",
      "Post the 1 iteration, [1, 2, 3, 4, 5, 7, 9]\n",
      "Post the 2 iteration, [1, 2, 3, 4, 5, 7, 9]\n",
      "Post the 3 iteration, [1, 2, 3, 4, 5, 7, 9]\n",
      "Post the 4 iteration, [1, 2, 3, 4, 5, 7, 9]\n",
      "Post the 5 iteration, [1, 2, 3, 4, 5, 7, 9]\n",
      "Post the 6 iteration, [1, 2, 3, 4, 5, 7, 9]\n",
      "Time Taken =  0.0\n"
     ]
    }
   ],
   "source": [
    "start = time.time()\n",
    "sort_lst = bubbleSort(lst)\n",
    "end = time.time()\n",
    "time_diff = end - start\n",
    "print(\"Time Taken = \", time_diff)"
   ]
  },
  {
   "cell_type": "code",
   "execution_count": 30,
   "metadata": {},
   "outputs": [
    {
     "data": {
      "text/plain": [
       "[1, 2, 3, 4, 5, 7, 9]"
      ]
     },
     "execution_count": 30,
     "metadata": {},
     "output_type": "execute_result"
    }
   ],
   "source": [
    "sort_lst"
   ]
  },
  {
   "cell_type": "markdown",
   "metadata": {},
   "source": [
    "### Selection Sort\n",
    "- This code almost does the opposite of bubble sort. It sorts the smallest element first. \n",
    "- In each iteration, the smallest of the unsorted array is found and put in it's right index.\n",
    "See the below code to understand better. "
   ]
  },
  {
   "cell_type": "code",
   "execution_count": 56,
   "metadata": {},
   "outputs": [],
   "source": [
    "def selectionSort(lst):\n",
    "    print(\"original list is {}\".format(lst))\n",
    "    len_lst = len(lst)\n",
    "    for iter_1 in range(len_lst):\n",
    "        min_id = iter_1\n",
    "        for iter_2 in range(iter_1+1,len_lst):\n",
    "            if lst[min_id] > lst[iter_2]:\n",
    "                min_id = iter_2\n",
    "        lst[iter_1] , lst[min_id] = lst[min_id], lst[iter_1]\n",
    "        print(\"Post the {} iteration, {}\" .format(iter_1, lst))\n",
    "    return lst"
   ]
  },
  {
   "cell_type": "code",
   "execution_count": 57,
   "metadata": {},
   "outputs": [],
   "source": [
    "lst = [1,4,2,7,5,9,3]"
   ]
  },
  {
   "cell_type": "code",
   "execution_count": 58,
   "metadata": {},
   "outputs": [
    {
     "name": "stdout",
     "output_type": "stream",
     "text": [
      "original list is [1, 4, 2, 7, 5, 9, 3]\n",
      "Post the 0 iteration, [1, 4, 2, 7, 5, 9, 3]\n",
      "Post the 1 iteration, [1, 2, 4, 7, 5, 9, 3]\n",
      "Post the 2 iteration, [1, 2, 3, 7, 5, 9, 4]\n",
      "Post the 3 iteration, [1, 2, 3, 4, 5, 9, 7]\n",
      "Post the 4 iteration, [1, 2, 3, 4, 5, 9, 7]\n",
      "Post the 5 iteration, [1, 2, 3, 4, 5, 7, 9]\n",
      "Post the 6 iteration, [1, 2, 3, 4, 5, 7, 9]\n",
      "Time Taken =  0.0\n"
     ]
    }
   ],
   "source": [
    "start = time.time()\n",
    "sort_lst = selectionSort(lst)\n",
    "end = time.time()\n",
    "time_diff = end - start\n",
    "print(\"Time Taken = \", time_diff)"
   ]
  },
  {
   "cell_type": "code",
   "execution_count": 35,
   "metadata": {},
   "outputs": [
    {
     "data": {
      "text/plain": [
       "[1, 2, 3, 4, 5, 7, 9]"
      ]
     },
     "execution_count": 35,
     "metadata": {},
     "output_type": "execute_result"
    }
   ],
   "source": [
    "sort_lst"
   ]
  },
  {
   "cell_type": "markdown",
   "metadata": {},
   "source": [
    "### Insertion Sort\n",
    "- In this sort, every element (e) is compared with all the elements with index less than the element e. \n",
    "- At each iteration step i, the first i elements are sorted.\n",
    "- Hence by the last iteration, all numbers are sorted\n",
    "- See the code below"
   ]
  },
  {
   "cell_type": "code",
   "execution_count": 67,
   "metadata": {},
   "outputs": [],
   "source": [
    "def insertionSort(lst):\n",
    "    print(\"original list is {}\".format(lst))\n",
    "    len_lst = len(lst)\n",
    "    for iter_1 in range(1,len_lst):\n",
    "        key = lst[iter_1]\n",
    "        print(\"{} iteration, key = {}\".format(iter_1, key))\n",
    "        iter_2 = iter_1 - 1\n",
    "        while iter_2 >= 0 and key < lst[iter_2]:\n",
    "            lst[iter_2 + 1] = lst[iter_2]\n",
    "            iter_2 -= 1\n",
    "        lst[iter_2 + 1] = key\n",
    "        print(\"Post the {} iteration, {}\".format(iter_1,lst))\n",
    "    return lst"
   ]
  },
  {
   "cell_type": "code",
   "execution_count": 68,
   "metadata": {},
   "outputs": [],
   "source": [
    "lst = [1,4,2,7,5,9,3]"
   ]
  },
  {
   "cell_type": "code",
   "execution_count": 69,
   "metadata": {},
   "outputs": [
    {
     "name": "stdout",
     "output_type": "stream",
     "text": [
      "original list is [1, 4, 2, 7, 5, 9, 3]\n",
      "1 iteration, key = 4\n",
      "Post the 1 iteration, [1, 4, 2, 7, 5, 9, 3]\n",
      "2 iteration, key = 2\n",
      "Post the 2 iteration, [1, 2, 4, 7, 5, 9, 3]\n",
      "3 iteration, key = 7\n",
      "Post the 3 iteration, [1, 2, 4, 7, 5, 9, 3]\n",
      "4 iteration, key = 5\n",
      "Post the 4 iteration, [1, 2, 4, 5, 7, 9, 3]\n",
      "5 iteration, key = 9\n",
      "Post the 5 iteration, [1, 2, 4, 5, 7, 9, 3]\n",
      "6 iteration, key = 3\n",
      "Post the 6 iteration, [1, 2, 3, 4, 5, 7, 9]\n",
      "Time Taken =  0.0006680488586425781\n"
     ]
    }
   ],
   "source": [
    "start = time.time()\n",
    "sort_lst = insertionSort(lst)\n",
    "end = time.time()\n",
    "time_diff = end - start\n",
    "print(\"Time Taken = \", time_diff)"
   ]
  },
  {
   "cell_type": "markdown",
   "metadata": {},
   "source": [
    "### Merge Sort"
   ]
  },
  {
   "cell_type": "code",
   "execution_count": 77,
   "metadata": {},
   "outputs": [],
   "source": [
    "def mergeSort(lst):\n",
    "    len_lst = len(lst)\n",
    "    if len_lst == 1:\n",
    "        return lst\n",
    "\n",
    "    mid = len_lst // 2\n",
    "    divide1 = lst[:mid]\n",
    "    divide2 = lst[mid:]\n",
    "    left_part = mergeSort(divide1)\n",
    "    right_part = mergeSort(divide2)\n",
    "    print(left_part,\"left_part\")\n",
    "    print(right_part, \"right_part\")\n",
    "        \n",
    "    return merge(left_part, right_part)\n",
    "\n",
    "def merge(left, right):\n",
    "    output = []\n",
    "    i = j = 0\n",
    "    while i < len(left) and j < len(right):\n",
    "        if left[i] < right[j]:\n",
    "            output.append(left[i])\n",
    "            i += 1\n",
    "        else:\n",
    "            output.append(right[j])\n",
    "            j += 1\n",
    "    output.extend(left[i:])\n",
    "    output.extend(right[j:])\n",
    "    print(output)\n",
    "    \n",
    "    return output\n",
    "\n",
    "        \n",
    "    "
   ]
  },
  {
   "cell_type": "code",
   "execution_count": 78,
   "metadata": {},
   "outputs": [],
   "source": [
    "lst = [1,4,2,7,5,9,3]"
   ]
  },
  {
   "cell_type": "code",
   "execution_count": 79,
   "metadata": {},
   "outputs": [
    {
     "name": "stdout",
     "output_type": "stream",
     "text": [
      "[4] left_part\n",
      "[2] right_part\n",
      "[2, 4]\n",
      "[1] left_part\n",
      "[2, 4] right_part\n",
      "[1, 2, 4]\n",
      "[7] left_part\n",
      "[5] right_part\n",
      "[5, 7]\n",
      "[9] left_part\n",
      "[3] right_part\n",
      "[3, 9]\n",
      "[5, 7] left_part\n",
      "[3, 9] right_part\n",
      "[3, 5, 7, 9]\n",
      "[1, 2, 4] left_part\n",
      "[3, 5, 7, 9] right_part\n",
      "[1, 2, 3, 4, 5, 7, 9]\n",
      "Time Taken =  0.0019888877868652344\n"
     ]
    }
   ],
   "source": [
    "start = time.time()\n",
    "sort_lst = mergeSort(lst)\n",
    "end = time.time()\n",
    "time_diff = end - start\n",
    "print(\"Time Taken = \", time_diff)"
   ]
  },
  {
   "cell_type": "code",
   "execution_count": 76,
   "metadata": {},
   "outputs": [
    {
     "data": {
      "text/plain": [
       "[1, 2, 3, 4, 5, 7, 9]"
      ]
     },
     "execution_count": 76,
     "metadata": {},
     "output_type": "execute_result"
    }
   ],
   "source": [
    "sort_lst"
   ]
  },
  {
   "cell_type": "code",
   "execution_count": null,
   "metadata": {},
   "outputs": [],
   "source": []
  }
 ],
 "metadata": {
  "kernelspec": {
   "display_name": "Python 3",
   "language": "python",
   "name": "python3"
  },
  "language_info": {
   "codemirror_mode": {
    "name": "ipython",
    "version": 3
   },
   "file_extension": ".py",
   "mimetype": "text/x-python",
   "name": "python",
   "nbconvert_exporter": "python",
   "pygments_lexer": "ipython3",
   "version": "3.7.4"
  }
 },
 "nbformat": 4,
 "nbformat_minor": 2
}
